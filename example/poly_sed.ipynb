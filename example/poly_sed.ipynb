{
 "cells": [
  {
   "cell_type": "markdown",
   "metadata": {},
   "source": [
    "# Importar bibibliotecas"
   ]
  },
  {
   "cell_type": "code",
   "execution_count": 1,
   "metadata": {},
   "outputs": [],
   "source": [
    "import pycuda.autoinit\n",
    "from pycuda.compiler import SourceModule\n",
    "import pycuda.driver as drv\n",
    "import numpy as np\n",
    "import matplotlib.pyplot as plt"
   ]
  },
  {
   "cell_type": "markdown",
   "metadata": {},
   "source": [
    "# Leer Kernel"
   ]
  },
  {
   "cell_type": "code",
   "execution_count": 2,
   "metadata": {},
   "outputs": [],
   "source": [
    "# Lee el archivo kernel.cu\n",
    "with open(\"../src/poly_sed.cu\", \"r\") as f:\n",
    "    kernel_code = f.read()\n",
    "mod = SourceModule(kernel_code)    \n",
    "# Accede a la función del kernel\n",
    "update_phi = mod.get_function(\"update_phi\")"
   ]
  },
  {
   "cell_type": "markdown",
   "metadata": {},
   "source": [
    "# Configurar las condiciones iniciales del PVI y parámetros de la EDP"
   ]
  },
  {
   "cell_type": "code",
   "execution_count": 3,
   "metadata": {},
   "outputs": [],
   "source": [
    "num_especies = 6 \n",
    "LL = 1.0\n",
    "T = 50.0\n",
    "g = 9.81\n",
    "u_0 = 0.02416\n",
    "lam = 4.7\n",
    "phi_max = 0.6\n",
    "diam = np.linspace(4.96e-4, 2.25e-4,num_especies, dtype=np.float64)\n",
    "d = (1.0 / 1208.0) * np.linspace(2790.0, 2790.0,num_especies, dtype=np.float64)\n"
   ]
  },
  {
   "cell_type": "markdown",
   "metadata": {},
   "source": [
    "# Configurar parámetros de método numérico"
   ]
  },
  {
   "cell_type": "code",
   "execution_count": 4,
   "metadata": {},
   "outputs": [],
   "source": [
    "num_celdas = 10000\n",
    "dtmax = 0.1\n",
    "dt = 0.001\n",
    "dts = 1.0\n",
    "df = 1.0  # 1208/1208\n",
    "dx = LL / num_celdas\n",
    "# Inicialización de arrays\n",
    "x = np.linspace(0, LL, num_celdas + 1, dtype=np.float64)\n",
    "phi = np.zeros((num_especies, (num_celdas + 1)), dtype=np.float64)\n",
    "\n",
    "# Condición inicial\n",
    "ci=np.linspace(0.01,0.05,num_especies)\n",
    "for i in range(num_especies):\n",
    "    phi[i, :num_celdas + 1] = ci[i]\n"
   ]
  },
  {
   "cell_type": "markdown",
   "metadata": {},
   "source": [
    "# Configurar parámetros GPU"
   ]
  },
  {
   "cell_type": "code",
   "execution_count": 5,
   "metadata": {},
   "outputs": [],
   "source": [
    "# Aplanar el array phi para copiarlo al dispositivo\n",
    "phi_flat = np.concatenate((phi.flatten(),np.zeros(num_especies*(num_celdas+1))),axis=0)\n",
    "phi_gpu = drv.mem_alloc(phi_flat.nbytes)\n",
    "d_gpu = drv.mem_alloc(d.nbytes)\n",
    "diam_gpu = drv.mem_alloc(diam.nbytes)\n",
    "\n",
    "drv.memcpy_htod(phi_gpu, phi_flat)\n",
    "drv.memcpy_htod(d_gpu, d)\n",
    "drv.memcpy_htod(diam_gpu, diam)\n",
    "\n",
    "# Definir dimensiones de bloque y grid\n",
    "block_size = (512//num_especies, num_especies, 1)\n",
    "grid_size_x = (num_celdas + block_size[0] - 1) // block_size[0]\n",
    "grid_size_y = (num_especies + block_size[1] - 1) // block_size[1]\n",
    "grid_size = (grid_size_x, grid_size_y)"
   ]
  },
  {
   "cell_type": "code",
   "execution_count": null,
   "metadata": {},
   "outputs": [],
   "source": [
    "print(\"Parámetros EDP:\")\n",
    "# print(f\"  - phi_ini: {phi_ini} [kg/m^3]\")\n",
    "print(f\"  - phi_max: {phi_max} [kg/m^3]\")\n",
    "print(f\"  - Tiempo de simulación: {T} [s]\")\n",
    "print(f\"  - Largo del dominio: {LL} [m]\")\n",
    "print(\"\\nParámetros Método Numérico:\")\n",
    "# print(f\"  - CFL: {cfl}\")\n",
    "print(f\"  - Mallado: {num_celdas} celdas\")\n",
    "print(f\"  - dx: {dx} [s]\")\n",
    "print(f\"  - dt: {dt} [m]\")\n",
    "print(\"\\nParámetros GPU:\")\n",
    "print(f\"  - Memoria: {phi.nbytes // (1024.0 ** 2)} MB\")\n",
    "print(f\"  - Tamaño bloque: {block_size[0]} hilos\")\n",
    "print(f\"  - Tamaño grilla: {grid_size[0]} bloques\")"
   ]
  },
  {
   "cell_type": "markdown",
   "metadata": {},
   "source": [
    "# Cálculo de la solución usando el Kernel de CUDA "
   ]
  },
  {
   "cell_type": "code",
   "execution_count": null,
   "metadata": {},
   "outputs": [],
   "source": [
    "try:\n",
    "    t=np.int32(0)\n",
    "    T_actual = 0\n",
    "    phi_result = np.empty_like(phi)\n",
    "    while T_actual <T:\n",
    "        # Llamar al kernel\n",
    "        update_phi(\n",
    "            phi_gpu,\n",
    "            d_gpu,\n",
    "            np.float64(df),\n",
    "            diam_gpu,\n",
    "            np.float64(g),\n",
    "            np.float64(u_0),\n",
    "            np.float64(lam),\n",
    "            np.float64(phi_max),\n",
    "            np.float64(dt),\n",
    "            np.float64(dx),\n",
    "            np.int32(num_celdas),\n",
    "            np.int32(num_especies),\n",
    "            np.int32(t),\n",
    "            block=block_size, grid=grid_size\n",
    "        )\n",
    "        pycuda.autoinit.context.synchronize()  # Sincronizar después de la primera fase\n",
    "\n",
    "        # Paso temporal \n",
    "        T_actual = T_actual + dt\n",
    "        t = np.int32(t+1)\n",
    "    # Copiar los datos de vuelta al host \n",
    "    drv.memcpy_dtoh(phi_result, phi_gpu)\n",
    "\n",
    "finally:\n",
    "    # Liberar la memoria\n",
    "    phi_gpu.free()\n",
    "    d_gpu.free()\n",
    "    diam_gpu.free()    \n",
    "    print(\"Memoria liberada\")"
   ]
  },
  {
   "cell_type": "markdown",
   "metadata": {},
   "source": [
    "# Plot Tiempo Final"
   ]
  },
  {
   "cell_type": "code",
   "execution_count": null,
   "metadata": {},
   "outputs": [],
   "source": [
    "phi_updated = phi_result[:num_especies*(num_celdas + 1)].reshape((num_especies, (num_celdas + 1)))\t\n",
    "\n",
    "plt.ion()\n",
    "for j in range(num_especies):\n",
    "    phi_plot=phi_updated[j, :num_celdas + 1].flatten()\n",
    "    position = np.linspace(0,LL,num_celdas + 1)\n",
    "\n",
    "    plt.plot(\n",
    "        phi_plot, \n",
    "        position, \n",
    "        linestyle='', \n",
    "        marker='.', \n",
    "        color=f'C{j}', \n",
    "        label=f'$\\phi_0={ci[j]:.4f}$'\n",
    "    )\n",
    "\n",
    "plt.legend()\n",
    "plt.title(f\"Tiempo t={T_actual:.4f}\")\n",
    "plt.ylabel('Position (m)')\n",
    "plt.xlabel('Concentration')\n",
    "plt.xlim(0, 0.7)  # Ajustar si fuera necesario\n",
    "plt.ylim(0, LL)   # Ajustar si fuera necesario\n",
    "plt.show()"
   ]
  },
  {
   "cell_type": "code",
   "execution_count": null,
   "metadata": {},
   "outputs": [],
   "source": []
  }
 ],
 "metadata": {
  "kernelspec": {
   "display_name": "Python 3",
   "language": "python",
   "name": "python3"
  },
  "language_info": {
   "codemirror_mode": {
    "name": "ipython",
    "version": 3
   },
   "file_extension": ".py",
   "mimetype": "text/x-python",
   "name": "python",
   "nbconvert_exporter": "python",
   "pygments_lexer": "ipython3",
   "version": "3.10.12"
  }
 },
 "nbformat": 4,
 "nbformat_minor": 2
}
