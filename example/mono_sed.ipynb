{
 "cells": [
  {
   "cell_type": "markdown",
   "metadata": {},
   "source": [
    "# Importar bibibliotecas"
   ]
  },
  {
   "cell_type": "code",
   "execution_count": 1,
   "metadata": {},
   "outputs": [],
   "source": [
    "import pycuda.autoinit\n",
    "from pycuda.compiler import SourceModule\n",
    "import pycuda.driver as drv\n",
    "import numpy as np\n",
    "import matplotlib.pyplot as plt"
   ]
  },
  {
   "cell_type": "markdown",
   "metadata": {},
   "source": [
    "# Leer Kernel"
   ]
  },
  {
   "cell_type": "code",
   "execution_count": null,
   "metadata": {},
   "outputs": [],
   "source": [
    "# Lee el archivo kernel.cu\n",
    "with open(\"../src/mono_sed.cu\", \"r\") as f:\n",
    "    kernel_code = f.read()\n",
    "mod = SourceModule(kernel_code)    \n",
    "# Accede a la función del kernel\n",
    "compute_phi_new = mod.get_function(\"compute_phi_new\")"
   ]
  },
  {
   "cell_type": "markdown",
   "metadata": {},
   "source": [
    "# Configurar las condiciones iniciales del PVI y parámetros de la EDP"
   ]
  },
  {
   "cell_type": "code",
   "execution_count": null,
   "metadata": {},
   "outputs": [],
   "source": [
    "phi_ini = np.float64(0.175)             # Concentración inicial del fluido\n",
    "phimin = np.float64(0.0)                # Concentración mínima del fluido\n",
    "phimax = np.float64(0.519852941)        # Concentración máxima del fluido\n",
    "v0 = np.float64(0.012)                  # Parámetro f_bk \n",
    "nrz = np.float64(1.9291211044205632)    # Parámetro f_bk \n",
    "T = np.float64(5)                       # Tiempo \n",
    "L = np.float64(0.303)                   # Largo del dominio [0,L]"
   ]
  },
  {
   "cell_type": "markdown",
   "metadata": {},
   "source": [
    "# Configurar parámetros de método numérico"
   ]
  },
  {
   "cell_type": "code",
   "execution_count": null,
   "metadata": {},
   "outputs": [],
   "source": [
    "# Crear datos en el host \n",
    "n = np.int32((1<<15))\n",
    "\n",
    "# Condición inicial\n",
    "phi = np.zeros(2 * n, dtype=np.float64)\n",
    "phi[:n] = phi_ini\n",
    "phi[n:] = np.float64(0.0)\n",
    "\n",
    "cfl = np.float64(0.8)\n",
    "dx = np.float64(L / n)                   # Paso espacial (dominio de x de 0 a L)\n",
    "dt = np.float64(cfl * dx / np.max(phi))  # Paso temporal inicial\n",
    "dt_dx = np.float64(dt / dx)"
   ]
  },
  {
   "cell_type": "markdown",
   "metadata": {},
   "source": [
    "# Configurar parámetros GPU"
   ]
  },
  {
   "cell_type": "code",
   "execution_count": null,
   "metadata": {},
   "outputs": [],
   "source": [
    "# Configuración de los bloques y los hilos\n",
    "block_size = (1024, 1, 1)\n",
    "grid_size = (int(np.ceil(2 * n / block_size[0])), 1, 1)\n",
    "\n",
    "# Asignar memoria en el dispositivo (GPU)\n",
    "phi_gpu = drv.mem_alloc(phi.nbytes)\n",
    "\n",
    "# Copiar los datos del host al dispositivo\n",
    "drv.memcpy_htod(phi_gpu, phi)"
   ]
  },
  {
   "cell_type": "code",
   "execution_count": null,
   "metadata": {},
   "outputs": [],
   "source": [
    "print(\"Parámetros EDP:\")\n",
    "print(f\"  - phi_ini: {phi_ini} [kg/m^3]\")\n",
    "print(f\"  - phi_min: {phimin} [kg/m^3]\")\n",
    "print(f\"  - phi_max: {phimax} [kg/m^3]\")\n",
    "print(f\"  - Tiempo de simulación: {T} [s]\")\n",
    "print(f\"  - Largo del dominio: {L} [m]\")\n",
    "print(\"\\nParámetros Método Numérico:\")\n",
    "print(f\"  - CFL: {cfl}\")\n",
    "print(f\"  - Mallado: {n} celdas\")\n",
    "print(f\"  - dx: {dx} [s]\")\n",
    "print(f\"  - dt: {dt} [m]\")\n",
    "print(\"\\nParámetros GPU:\")\n",
    "print(f\"  - Memoria: {phi.nbytes // (1024.0 ** 2)} MB\")\n",
    "print(f\"  - Tamaño bloque: {block_size[0]} hilos\")\n",
    "print(f\"  - Tamaño grilla: {grid_size[0]} bloques\")"
   ]
  },
  {
   "cell_type": "markdown",
   "metadata": {},
   "source": [
    "# Cálculo de la solución usando el Kernel de CUDA "
   ]
  },
  {
   "cell_type": "code",
   "execution_count": null,
   "metadata": {},
   "outputs": [],
   "source": [
    "try:\n",
    "    t=np.int32(0)\n",
    "    T_actual = 0\n",
    "    result = np.empty_like(phi)\n",
    "    while T_actual <T:\n",
    "        compute_phi_new(phi_gpu, dt_dx, phimin, phimax, v0,  nrz, n, t, block=block_size, grid=grid_size)\n",
    "        pycuda.autoinit.context.synchronize()  # Sincronizar después de la primera fase\n",
    "\n",
    "        # Paso temporal \n",
    "        T_actual = T_actual + dt\n",
    "        t = np.int32(t+1)\n",
    "    # Copiar los datos de vuelta al host \n",
    "    drv.memcpy_dtoh(result, phi_gpu)\n",
    "\n",
    "finally:\n",
    "    # Liberar la memoria\n",
    "    phi_gpu.free()\n",
    "    print(\"Memoria liberada\")"
   ]
  },
  {
   "cell_type": "markdown",
   "metadata": {},
   "source": [
    "# Plot Tiempo Final"
   ]
  },
  {
   "cell_type": "code",
   "execution_count": null,
   "metadata": {},
   "outputs": [],
   "source": [
    "plt.plot(np.flip(result[:n]),np.linspace(0,L,n)[0:n],label='Solución')\n",
    "plt.title(f\"Solución en T={T}\")\n",
    "plt.xlabel(\"Concentración\")\n",
    "plt.ylabel(\"Altura\")\n",
    "plt.show()"
   ]
  }
 ],
 "metadata": {
  "kernelspec": {
   "display_name": "Python 3",
   "language": "python",
   "name": "python3"
  },
  "language_info": {
   "codemirror_mode": {
    "name": "ipython",
    "version": 3
   },
   "file_extension": ".py",
   "mimetype": "text/x-python",
   "name": "python",
   "nbconvert_exporter": "python",
   "pygments_lexer": "ipython3",
   "version": "3.10.12"
  }
 },
 "nbformat": 4,
 "nbformat_minor": 2
}
