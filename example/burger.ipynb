{
 "cells": [
  {
   "cell_type": "code",
   "execution_count": null,
   "metadata": {},
   "outputs": [],
   "source": [
    "import pycuda.autoinit\n",
    "from pycuda.compiler import SourceModule\n",
    "import pycuda.driver as drv\n",
    "import numpy as np\n",
    "import matplotlib.pyplot as plt"
   ]
  },
  {
   "cell_type": "markdown",
   "metadata": {},
   "source": [
    "# Leer Kernel"
   ]
  },
  {
   "cell_type": "code",
   "execution_count": null,
   "metadata": {},
   "outputs": [],
   "source": [
    "# Lee el archivo kernel.cu\n",
    "with open(\"../src/burger.cu\", \"r\") as f:\n",
    "    kernel_code = f.read()\n",
    "mod = SourceModule(kernel_code)    \n",
    "# Accede a las funciones del kernel\n",
    "Lax_Friedrichs = mod.get_function(\"Lax_Friedrichs\")\n",
    "maxIni = mod.get_function(\"maxReductionIniKernel\")\n",
    "max_fin = mod.get_function(\"maxReductionKernelEnd\")\n",
    "maximo = mod.get_function(\"maxReductionKernel\")\n",
    "get_max = mod.get_function(\"getMaxKernel\")"
   ]
  },
  {
   "cell_type": "markdown",
   "metadata": {},
   "source": [
    "# Configurar las condiciones iniciales del PVI y parámetros de la EDP"
   ]
  },
  {
   "cell_type": "code",
   "execution_count": null,
   "metadata": {},
   "outputs": [],
   "source": [
    "T = np.float64(0.5)\n",
    "L = np.float64(2)  "
   ]
  },
  {
   "cell_type": "markdown",
   "metadata": {},
   "source": [
    "# Configurar parámetros de método numérico"
   ]
  },
  {
   "cell_type": "code",
   "execution_count": null,
   "metadata": {},
   "outputs": [],
   "source": [
    "n = np.int32((1<<17))\n",
    "cfl = np.float64(0.8)\n",
    "# Creando Condición Inicial\n",
    "data = np.zeros(2*n,dtype=np.float64)\n",
    "data[0:int(n/4)] = [np.float64(1.0+i/n) for i in range(0, int(n/4))]\n",
    "data[0:int(n/4)] = np.float64(1.0) \n",
    "cond_ini = data[:n] # para plotear \n",
    "\n",
    "dx = np.float64(L / (n))            # Paso espacial (dominio de x de 0 a L)\n",
    "dt =  np.float64(cfl*dx/np.max(data))  # Paso temporal inicial\n",
    "dt_dx = np.float64(dt/dx )"
   ]
  },
  {
   "cell_type": "markdown",
   "metadata": {},
   "source": [
    "# Configurar parámetros GPU"
   ]
  },
  {
   "cell_type": "code",
   "execution_count": null,
   "metadata": {},
   "outputs": [],
   "source": [
    "block_size = (1024, 1, 1)\n",
    "grid_size = (int(np.ceil(2*n / block_size[0])), 1, 1)\n",
    "\n",
    "# Inicialización vectories máximo\n",
    "max_arr = np.zeros(int(np.ceil(2*n/block_size[0])),dtype=np.float64)\n",
    "max_end = np.zeros(1,dtype=np.float64)\n",
    "\n",
    "#Asignar memoria en el device\n",
    "data_gpu = drv.mem_alloc(data.nbytes)\n",
    "max_arr_gpu = drv.mem_alloc(max_arr.nbytes)\n",
    "max_end_gpu = drv.mem_alloc(max_end.nbytes)\n",
    "\n",
    "\n",
    "#Copiar los datos del host al device\n",
    "drv.memcpy_htod(data_gpu, data)\n",
    "drv.memcpy_htod(max_arr_gpu, max_arr)\n",
    "drv.memcpy_htod(max_end_gpu, max_end)"
   ]
  },
  {
   "cell_type": "code",
   "execution_count": null,
   "metadata": {},
   "outputs": [],
   "source": [
    "print(\"Parámetros EDP:\")\n",
    "print(f\"  - Tiempo de simulación: {T} s\")\n",
    "print(f\"  - Largo del dominio: {L} s\")\n",
    "print(\"\\nParámetros Método Numérico:\")\n",
    "print(f\"  - CFL: {cfl}\")\n",
    "print(f\"  - Mallado: {n} celdas\")\n",
    "print(f\"  - dx: {dx} [s]\")\n",
    "print(f\"  - dt: {dt} [m]\")\n",
    "print(\"\\nParámetros GPU:\")\n",
    "print(f\"  - Memoria: {data.nbytes // (1024.0 ** 2)} MB\")\n",
    "print(f\"  - Tamaño bloque: {block_size[0]} hilos\")\n",
    "print(f\"  - Tamaño grilla: {grid_size[0]} bloques\")"
   ]
  },
  {
   "cell_type": "markdown",
   "metadata": {},
   "source": [
    "# Cálculo de la solución usando el Kernel de CUDA "
   ]
  },
  {
   "cell_type": "code",
   "execution_count": null,
   "metadata": {},
   "outputs": [],
   "source": [
    "try:\n",
    "    t=np.int32(0)\n",
    "    T_actual = 0\n",
    "    while T_actual <T:\n",
    "        #----------------- Actualización de data -----------------#\n",
    "        Lax_Friedrichs(data_gpu, dt_dx, n, t, block=block_size, grid=grid_size)\n",
    "        pycuda.autoinit.context.synchronize()  # Sincronizar después de la primera fase\n",
    "        #----------------- Cálculo de MAXIMO para CFL-----------------#\n",
    "        largo = np.int32(2*n)\n",
    "        grid_max = grid_size[0]\n",
    "        maxIni(data_gpu,max_arr_gpu,np.int32(largo), block=block_size, grid=(grid_max,1,1),shared = block_size[0]*max_arr[0].nbytes)\n",
    "        pycuda.autoinit.context.synchronize()  # Sincronizar después de la primera fase\n",
    "            \n",
    "        while grid_max > 1:\n",
    "            largo = np.int32(largo/block_size[0])\n",
    "            grid_max = int(np.ceil(grid_max / block_size[0]))\n",
    "            maximo(max_arr_gpu,np.int32(largo), block=block_size, grid=(grid_max,1,1),shared = block_size[0]*max_arr[0].nbytes)\n",
    "            pycuda.autoinit.context.synchronize()  # Sincronizar después de la primera fase\n",
    "        get_max(max_arr_gpu,max_end_gpu, largo, block=(int(largo),1,1), grid=(1,1,1),shared = block_size[0]*max_arr[0].nbytes)\n",
    "\n",
    "        drv.memcpy_dtoh(max_end, max_end_gpu)\n",
    "        \n",
    "        dt =  np.float64(cfl*dx/max_end[0])  # Paso temporal inicial\n",
    "        dt_dx = np.float64(dt/dx )\n",
    "        T_actual = T_actual + dt\n",
    "        t = np.int32(t+1)\n",
    "\n",
    "    # Copiar los datos de vuelta al host y verificar\n",
    "    data = np.empty_like(data)\n",
    "    drv.memcpy_dtoh(data, data_gpu)\n",
    "finally:\n",
    "    # Liberar la memoria\n",
    "    data_gpu.free()\n",
    "    max_arr_gpu.free()\n",
    "    max_end_gpu.free()\n",
    "    print(\"Memoria liberada\")"
   ]
  },
  {
   "cell_type": "markdown",
   "metadata": {},
   "source": [
    "# Plot Tiempo Final"
   ]
  },
  {
   "cell_type": "code",
   "execution_count": null,
   "metadata": {},
   "outputs": [],
   "source": [
    "import matplotlib.pyplot as plt\n",
    "plt.plot(np.linspace(0,L,n),cond_ini[:n],label='Condición Inicial')\n",
    "plt.plot(np.linspace(0,L,n),data[:n],label='Solución')\n",
    "plt.title(\"Solución\")\n",
    "plt.xlabel(\"Espacio\")\n",
    "plt.ylabel(\"Altura\")\n",
    "plt.show()"
   ]
  }
 ],
 "metadata": {
  "kernelspec": {
   "display_name": "Python 3",
   "language": "python",
   "name": "python3"
  },
  "language_info": {
   "codemirror_mode": {
    "name": "ipython",
    "version": 3
   },
   "file_extension": ".py",
   "mimetype": "text/x-python",
   "name": "python",
   "nbconvert_exporter": "python",
   "pygments_lexer": "ipython3",
   "version": "3.10.12"
  }
 },
 "nbformat": 4,
 "nbformat_minor": 2
}
